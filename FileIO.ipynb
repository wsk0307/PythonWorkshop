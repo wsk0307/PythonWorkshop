{
 "cells": [
  {
   "cell_type": "code",
   "execution_count": null,
   "id": "4fe187f4",
   "metadata": {},
   "outputs": [],
   "source": [
    "# Windows\n",
    "!dir\n",
    "# Unix or Linux\n",
    "!ls"
   ]
  },
  {
   "cell_type": "code",
   "execution_count": 1,
   "id": "1f0e2e35",
   "metadata": {},
   "outputs": [
    {
     "name": "stdout",
     "output_type": "stream",
     "text": [
      "50\n"
     ]
    }
   ],
   "source": [
    "f = open('test.txt', 'w')\n",
    "print(f.write('Python Basic Programming For Interconnect with Web'))\n",
    "f.close()"
   ]
  },
  {
   "cell_type": "code",
   "execution_count": 2,
   "id": "baed0c86",
   "metadata": {},
   "outputs": [
    {
     "name": "stdout",
     "output_type": "stream",
     "text": [
      "Array.ipynb            test_29.jpg            test_56.jpg\r\n",
      "ControlStatement.ipynb test_3.jpg             test_57.jpg\r\n",
      "DataType.ipynb         test_30.jpg            test_58.jpg\r\n",
      "FileIO.ipynb           test_31.jpg            test_59.jpg\r\n",
      "Function(Method).ipynb test_32.jpg            test_6.jpg\r\n",
      "README.md              test_33.jpg            test_60.jpg\r\n",
      "Untitled.ipynb         test_34.jpg            test_61.jpg\r\n",
      "request_success.jpg    test_35.jpg            test_62.jpg\r\n",
      "test.txt               test_36.jpg            test_63.jpg\r\n",
      "test_1.jpg             test_37.jpg            test_64.jpg\r\n",
      "test_10.jpg            test_38.jpg            test_65.jpg\r\n",
      "test_11.jpg            test_39.jpg            test_66.jpg\r\n",
      "test_12.jpg            test_4.jpg             test_67.jpg\r\n",
      "test_13.jpg            test_40.jpg            test_68.jpg\r\n",
      "test_14.jpg            test_41.jpg            test_69.jpg\r\n",
      "test_15.jpg            test_42.jpg            test_7.jpg\r\n",
      "test_16.jpg            test_43.jpg            test_70.jpg\r\n",
      "test_17.jpg            test_44.jpg            test_71.jpg\r\n",
      "test_18.jpg            test_45.jpg            test_72.jpg\r\n",
      "test_19.jpg            test_46.jpg            test_73.jpg\r\n",
      "test_2.jpg             test_47.jpg            test_74.jpg\r\n",
      "test_20.jpg            test_48.jpg            test_75.jpg\r\n",
      "test_21.jpg            test_49.jpg            test_76.jpg\r\n",
      "test_22.jpg            test_5.jpg             test_77.jpg\r\n",
      "test_23.jpg            test_50.jpg            test_78.jpg\r\n",
      "test_24.jpg            test_51.jpg            test_79.jpg\r\n",
      "test_25.jpg            test_52.jpg            test_8.jpg\r\n",
      "test_26.jpg            test_53.jpg            test_80.jpg\r\n",
      "test_27.jpg            test_54.jpg            test_9.jpg\r\n",
      "test_28.jpg            test_55.jpg\r\n"
     ]
    }
   ],
   "source": [
    "!ls"
   ]
  },
  {
   "cell_type": "code",
   "execution_count": 3,
   "id": "9afc148f",
   "metadata": {},
   "outputs": [
    {
     "name": "stdout",
     "output_type": "stream",
     "text": [
      "/bin/bash: line 0: type: test.txt: not found\r\n"
     ]
    }
   ],
   "source": [
    "!type test.txt"
   ]
  },
  {
   "cell_type": "code",
   "execution_count": 4,
   "id": "33e68b3d",
   "metadata": {},
   "outputs": [
    {
     "name": "stdout",
     "output_type": "stream",
     "text": [
      "\r\n",
      "OPEN(1)                   BSD General Commands Manual                  OPEN(1)\r\n",
      "\r\n",
      "N\bNA\bAM\bME\bE\r\n",
      "     o\bop\bpe\ben\bn -- open files and directories\r\n",
      "\r\n",
      "S\bSY\bYN\bNO\bOP\bPS\bSI\bIS\bS\r\n",
      "     o\bop\bpe\ben\bn [-\b-e\be] [-\b-t\bt] [-\b-f\bf] [-\b-F\bF] [-\b-W\bW] [-\b-R\bR] [-\b-n\bn] [-\b-g\bg] [-\b-j\bj] [-\b-h\bh] [-\b-s\bs _\bs_\bd_\bk]\r\n",
      "          [-\b-b\bb _\bb_\bu_\bn_\bd_\bl_\be_\b__\bi_\bd_\be_\bn_\bt_\bi_\bf_\bi_\be_\br] [-\b-a\ba _\ba_\bp_\bp_\bl_\bi_\bc_\ba_\bt_\bi_\bo_\bn] [-\b--\b-e\ben\bnv\bv _\bV_\bA_\bR] [-\b--\b-s\bst\btd\bde\ber\brr\br _\bP_\bA_\bT_\bH]\r\n",
      "          [-\b--\b-s\bst\btd\bdi\bin\bn _\bP_\bA_\bT_\bH] [-\b--\b-s\bst\btd\bdo\bou\but\bt _\bP_\bA_\bT_\bH] _\bf_\bi_\bl_\be _\b._\b._\b. [-\b--\b-a\bar\brg\bgs\bs _\ba_\br_\bg_\b1 _\b._\b._\b.]\r\n",
      "\r\n",
      "D\bDE\bES\bSC\bCR\bRI\bIP\bPT\bTI\bIO\bON\bN\r\n",
      "     The o\bop\bpe\ben\bn command opens a file (or a directory or URL), just as if you had\r\n",
      "     double-clicked the file's icon. If no application name is specified, the\r\n",
      "     default application as determined via LaunchServices is used to open the\r\n",
      "     specified files.\r\n",
      "\r\n",
      "     If the file is in the form of a URL, the file will be opened as a URL.\r\n",
      "\r\n",
      "     You can specify one or more file names (or pathnames), which are inter-\r\n",
      "     preted relative to the shell or Terminal window's current working direc-\r\n",
      "     tory. For example, the following command would open all Word files in the\r\n",
      "     current working directory:\r\n",
      "\r\n",
      "     open *.doc\r\n",
      "\r\n",
      "     Opened applications inherit environment variables just as if you had\r\n",
      "     launched the application directly through its full path.  This behavior\r\n",
      "     was also present in Tiger.\r\n",
      "\r\n",
      "     The options are as follows:\r\n",
      "\r\n",
      "     -\b-a\ba a\bap\bpp\bpl\bli\bic\bca\bat\bti\bio\bon\bn\r\n",
      "         Specifies the application to use for opening the file\r\n",
      "\r\n",
      "     -\b-b\bb b\bbu\bun\bnd\bdl\ble\be_\b_i\bid\bde\ben\bnt\bti\bif\bfi\bie\ber\br\r\n",
      "         Specifies the bundle identifier for the application to use when open-\r\n",
      "         ing the file\r\n",
      "\r\n",
      "     -\b-e\be  Causes the file to be opened with /Applications/TextEdit\r\n",
      "\r\n",
      "     -\b-t\bt  Causes the file to be opened with the default text editor, as deter-\r\n",
      "         mined via LaunchServices\r\n",
      "\r\n",
      "     -\b-f\bf  Reads input from standard input and opens the results in the default\r\n",
      "         text editor.  End input by sending EOF character (type Control-D).\r\n",
      "         Also useful for piping output to o\bop\bpe\ben\bn and having it open in the\r\n",
      "         default text editor.\r\n",
      "\r\n",
      "     -\b-F\bF  Opens the application \"fresh,\" that is, without restoring windows.\r\n",
      "         Saved persistent state is lost, except for Untitled documents.\r\n",
      "\r\n",
      "     -\b-W\bW  Causes o\bop\bpe\ben\bn to wait until the applications it opens (or that were\r\n",
      "         already open) have exited.  Use with the -\b-n\bn flag to allow o\bop\bpe\ben\bn to\r\n",
      "         function as an appropriate app for the $\b$E\bED\bDI\bIT\bTO\bOR\bR environment variable.\r\n",
      "\r\n",
      "     -\b-R\bR  Reveals the file(s) in the Finder instead of opening them.\r\n",
      "\r\n",
      "     -\b-n\bn  Open a new instance of the application(s) even if one is already run-\r\n",
      "         ning.\r\n",
      "\r\n",
      "     -\b-g\bg  Do not bring the application to the foreground.\r\n",
      "\r\n",
      "     -\b-j\bj  Launches the app hidden.\r\n",
      "\r\n",
      "     -\b-h\bh  Searches header locations for a header whose name matches the given\r\n",
      "         string and then opens it.  Pass a full header name (such as NSView.h)\r\n",
      "         for increased performance.\r\n",
      "\r\n",
      "     -\b-s\bs  For -h, partial or full SDK name to use; if supplied, only SDKs whose\r\n",
      "         names contain the argument value are searched. Otherwise the highest\r\n",
      "         versioned SDK in each platform is used.\r\n",
      "\r\n",
      "     -\b--\b-a\bar\brg\bgs\bs\r\n",
      "         All remaining arguments are passed to the opened application in the\r\n",
      "         argv parameter to main().  These arguments are not opened or inter-\r\n",
      "         preted by the o\bop\bpe\ben\bn tool.\r\n",
      "\r\n",
      "     -\b--\b-e\ben\bnv\bv _\bV_\bA_\bR\r\n",
      "         Adds _\bV_\bA_\bR to the environment of the launched application.  _\bV_\bA_\bR should\r\n",
      "         be formatted NAME=VALUE or NAME.\r\n",
      "\r\n",
      "     -\b--\b-s\bst\btd\bdi\bin\bn _\bP_\bA_\bT_\bH\r\n",
      "         Launches the application with stdin connected to _\bP_\bA_\bT_\bH.\r\n",
      "\r\n",
      "     -\b--\b-s\bst\btd\bdo\bou\but\bt _\bP_\bA_\bT_\bH\r\n",
      "         Launches the application with stdout connected to _\bP_\bA_\bT_\bH.\r\n",
      "\r\n",
      "     -\b--\b-s\bst\btd\bde\ber\brr\br _\bP_\bA_\bT_\bH\r\n",
      "         Launches the application with stderr connected to _\bP_\bA_\bT_\bH.\r\n",
      "\r\n",
      "E\bEX\bXA\bAM\bMP\bPL\bLE\bES\bS\r\n",
      "     \"open '/Volumes/Macintosh HD/foo.txt'\" opens the document in the default\r\n",
      "     application for its type (as determined by LaunchServices).\r\n",
      "\r\n",
      "     \"open '/Volumes/Macintosh HD/Applications/'\" opens that directory in the\r\n",
      "     Finder.\r\n",
      "\r\n",
      "     \"open -a /Applications/TextEdit.app '/Volumes/Macintosh HD/foo.txt'\"\r\n",
      "     opens the document in the application specified (in this case, TextEdit).\r\n",
      "\r\n",
      "     \"open -b com.apple.TextEdit '/Volumes/Macintosh HD/foo.txt'\" opens the\r\n",
      "     document in the application specified (in this case, TextEdit).\r\n",
      "\r\n",
      "     \"open -e '/Volumes/Macintosh HD/foo.txt'\" opens the document in TextEdit.\r\n",
      "\r\n",
      "     \"ls | open -f\" writes the output of the 'ls' command to a file in /tmp\r\n",
      "     and opens the file in the default text editor (as determined by Launch-\r\n",
      "     Services).\r\n",
      "\r\n",
      "     \"open http://www.apple.com/\" opens the URL in the default browser.\r\n",
      "\r\n",
      "     \"open 'file://localhost/Volumes/Macintosh HD/foo.txt'\" opens the document\r\n",
      "     in the default application for its type (as determined by LaunchSer-\r\n",
      "     vices).\r\n",
      "\r\n",
      "     \"open 'file://localhost/Volumes/Macintosh HD/Applications/'\" opens that\r\n",
      "     directory in the Finder.\r\n",
      "\r\n",
      "     \"open -h NSView\" lists headers whose names contain NSView and allows you\r\n",
      "     to choose which ones to open.\r\n",
      "\r\n",
      "     \"open -h NSView.h\" immediately opens NSView.h.\r\n",
      "\r\n",
      "     \"open --env MallocStackLogging=YES -b com.apple.TextEdit\" launches TextE-\r\n",
      "     dit with the environment variable \"MallocStackLogging\" set to \"YES\"\r\n",
      "\r\n",
      "     \"open -h NSView -s OSX10.12\" lists headers whose names contain NSView in\r\n",
      "     the MacOSX 10.12 SDK and allows you to choose which ones to open.\r\n",
      "\r\n",
      "H\bHI\bIS\bST\bTO\bOR\bRY\bY\r\n",
      "     First appeared in NextStep.\r\n",
      "\r\n",
      "macOS                           April 14, 2017                           macOS\r\n"
     ]
    }
   ],
   "source": [
    "# Unix & Linux\n",
    "# 시스템 프로그래밍 api를 볼 수 있음\n",
    "!man open"
   ]
  },
  {
   "cell_type": "code",
   "execution_count": 5,
   "id": "b4638554",
   "metadata": {},
   "outputs": [
    {
     "name": "stdout",
     "output_type": "stream",
     "text": [
      "\r\n",
      "WRITE(1)                  BSD General Commands Manual                 WRITE(1)\r\n",
      "\r\n",
      "N\bNA\bAM\bME\bE\r\n",
      "     w\bwr\bri\bit\bte\be -- send a message to another user\r\n",
      "\r\n",
      "S\bSY\bYN\bNO\bOP\bPS\bSI\bIS\bS\r\n",
      "     w\bwr\bri\bit\bte\be _\bu_\bs_\be_\br [_\bt_\bt_\by_\bn_\ba_\bm_\be]\r\n",
      "\r\n",
      "D\bDE\bES\bSC\bCR\bRI\bIP\bPT\bTI\bIO\bON\bN\r\n",
      "     The w\bwr\bri\bit\bte\be utility allows you to communicate with other users, by copying\r\n",
      "     lines from your terminal to theirs.\r\n",
      "\r\n",
      "     When you run the w\bwr\bri\bit\bte\be command, the user you are writing to gets a mes-\r\n",
      "     sage of the form:\r\n",
      "\r\n",
      "           Message from yourname@yourhost on yourtty at hh:mm ...\r\n",
      "\r\n",
      "     Any further lines you enter will be copied to the specified user's termi-\r\n",
      "     nal.  If the other user wants to reply, they must run w\bwr\bri\bit\bte\be as well.\r\n",
      "\r\n",
      "     When you are done, type an end-of-file or interrupt character.  The other\r\n",
      "     user will see the message `EOF' indicating that the conversation is over.\r\n",
      "\r\n",
      "     You can prevent people (other than the super-user) from writing to you\r\n",
      "     with the mesg(1) command.\r\n",
      "\r\n",
      "     If the user you want to write to is logged in on more than one terminal,\r\n",
      "     you can specify which terminal to write to by specifying the terminal\r\n",
      "     name as the second operand to the w\bwr\bri\bit\bte\be command.  Alternatively, you can\r\n",
      "     let w\bwr\bri\bit\bte\be select one of the terminals - it will pick the one with the\r\n",
      "     shortest idle time.  This is so that if the user is logged in at work and\r\n",
      "     also dialed up from home, the message will go to the right place.\r\n",
      "\r\n",
      "     The traditional protocol for writing to someone is that the string `-o',\r\n",
      "     either at the end of a line or on a line by itself, means that it's the\r\n",
      "     other person's turn to talk.  The string `oo' means that the person\r\n",
      "     believes the conversation to be over.\r\n",
      "\r\n",
      "S\bSE\bEE\bE A\bAL\bLS\bSO\bO\r\n",
      "     mesg(1), talk(1), wall(1), who(1)\r\n",
      "\r\n",
      "H\bHI\bIS\bST\bTO\bOR\bRY\bY\r\n",
      "     A w\bwr\bri\bit\bte\be command appeared in Version 1 AT&T UNIX.\r\n",
      "\r\n",
      "BSD                              June 6, 1993                              BSD\r\n"
     ]
    }
   ],
   "source": [
    "#Unix & Linux\n",
    "!man write"
   ]
  },
  {
   "cell_type": "code",
   "execution_count": 6,
   "id": "0474fde5",
   "metadata": {},
   "outputs": [
    {
     "name": "stdout",
     "output_type": "stream",
     "text": [
      "Python Basic Programming For Interconnect with Web\n",
      "True\n"
     ]
    }
   ],
   "source": [
    "# Unix의 핵심 철학\n",
    "# 모든것은 파일이다.\n",
    "# 그러다 보니 읽기던 쓰기던 뭘 하던 open()을 먼저하게 되어 있음\n",
    "f = open('test.txt')\n",
    "print(f.read())\n",
    "f.close()\n",
    "print(f.closed)"
   ]
  },
  {
   "cell_type": "code",
   "execution_count": 7,
   "id": "e9c82d1b",
   "metadata": {},
   "outputs": [
    {
     "name": "stdout",
     "output_type": "stream",
     "text": [
      "['Python Basic Programming For Interconnect with Web']\n",
      "False\n",
      "True\n"
     ]
    }
   ],
   "source": [
    "with open('test.txt') as f:\n",
    "    # readlines은 라인을 읽는것 다음 엔터는 끝에 ₩n이 적혀져 있다\n",
    "    print(f.readlines())\n",
    "    print(f.closed)\n",
    "    \n",
    "print(f.closed)"
   ]
  },
  {
   "cell_type": "code",
   "execution_count": 8,
   "id": "40fc125e",
   "metadata": {},
   "outputs": [
    {
     "name": "stdout",
     "output_type": "stream",
     "text": [
      "['red', 'green', 'blue']\n"
     ]
    }
   ],
   "source": [
    "colors = ['red', 'green', 'blue']\n",
    "print(colors)"
   ]
  },
  {
   "cell_type": "code",
   "execution_count": 9,
   "id": "44c240b8",
   "metadata": {},
   "outputs": [
    {
     "name": "stdout",
     "output_type": "stream",
     "text": [
      "True\n"
     ]
    }
   ],
   "source": [
    "# globals()를 활용하는 방법\n",
    "# 실제 객체가 만들어졌는지 안만들어졌는지 등을 아래와 같은 형식으로 체크할 수 있음\n",
    "def chk_colors():\n",
    "    if 'colors' in globals():\n",
    "        print(\"True\")\n",
    "    else:\n",
    "        print(\"False\")\n",
    "        \n",
    "chk_colors()"
   ]
  },
  {
   "cell_type": "code",
   "execution_count": 11,
   "id": "4de67602",
   "metadata": {},
   "outputs": [
    {
     "data": {
      "text/plain": [
       "{'__name__': '__main__',\n",
       " '__doc__': 'Automatically created module for IPython interactive environment',\n",
       " '__package__': None,\n",
       " '__loader__': None,\n",
       " '__spec__': None,\n",
       " '__builtin__': <module 'builtins' (built-in)>,\n",
       " '__builtins__': <module 'builtins' (built-in)>,\n",
       " '_ih': ['',\n",
       "  \"f = open('test.txt', 'w')\\nprint(f.write('Python Basic Programming For Interconnect with Web'))\\nf.close()\",\n",
       "  \"get_ipython().system('ls')\",\n",
       "  \"get_ipython().system('type test.txt')\",\n",
       "  \"# Unix & Linux\\n# 시스템 프로그래밍 api를 볼 수 있음\\nget_ipython().system('man open')\",\n",
       "  \"#Unix & Linux\\nget_ipython().system('man write')\",\n",
       "  \"f = open('test.txt')\\nprint(f.read())\\nf.close()\\nprint(f.closed)\",\n",
       "  \"with open('test.txt') as f:\\n    print(f.readlines())\\n    print(f.closed)\\n    \\nprint(f.closed)\",\n",
       "  \"colors = ['red', 'green', 'blue']\\nprint(colors)\",\n",
       "  'def chk_colors():\\n    if \\'colors\\' in globals():\\n        print(\"True\")\\n    else:\\n        print(\"False\")\\n        \\nchk_colors()',\n",
       "  'print(globals())',\n",
       "  'globals()'],\n",
       " '_oh': {},\n",
       " '_dh': ['/Users/wonseokkim/sw_env/python_works/PythonWorkshop'],\n",
       " 'In': ['',\n",
       "  \"f = open('test.txt', 'w')\\nprint(f.write('Python Basic Programming For Interconnect with Web'))\\nf.close()\",\n",
       "  \"get_ipython().system('ls')\",\n",
       "  \"get_ipython().system('type test.txt')\",\n",
       "  \"# Unix & Linux\\n# 시스템 프로그래밍 api를 볼 수 있음\\nget_ipython().system('man open')\",\n",
       "  \"#Unix & Linux\\nget_ipython().system('man write')\",\n",
       "  \"f = open('test.txt')\\nprint(f.read())\\nf.close()\\nprint(f.closed)\",\n",
       "  \"with open('test.txt') as f:\\n    print(f.readlines())\\n    print(f.closed)\\n    \\nprint(f.closed)\",\n",
       "  \"colors = ['red', 'green', 'blue']\\nprint(colors)\",\n",
       "  'def chk_colors():\\n    if \\'colors\\' in globals():\\n        print(\"True\")\\n    else:\\n        print(\"False\")\\n        \\nchk_colors()',\n",
       "  'print(globals())',\n",
       "  'globals()'],\n",
       " 'Out': {},\n",
       " 'get_ipython': <bound method InteractiveShell.get_ipython of <ipykernel.zmqshell.ZMQInteractiveShell object at 0x7f9a50fac5b0>>,\n",
       " 'exit': <IPython.core.autocall.ZMQExitAutocall at 0x7f9a51002d00>,\n",
       " 'quit': <IPython.core.autocall.ZMQExitAutocall at 0x7f9a51002d00>,\n",
       " '_': '',\n",
       " '__': '',\n",
       " '___': '',\n",
       " '_i': 'print(globals())',\n",
       " '_ii': 'def chk_colors():\\n    if \\'colors\\' in globals():\\n        print(\"True\")\\n    else:\\n        print(\"False\")\\n        \\nchk_colors()',\n",
       " '_iii': \"colors = ['red', 'green', 'blue']\\nprint(colors)\",\n",
       " '_i1': \"f = open('test.txt', 'w')\\nprint(f.write('Python Basic Programming For Interconnect with Web'))\\nf.close()\",\n",
       " 'f': <_io.TextIOWrapper name='test.txt' mode='r' encoding='UTF-8'>,\n",
       " '_i2': '!ls',\n",
       " '_exit_code': 0,\n",
       " '_i3': '!type test.txt',\n",
       " '_i4': '# Unix & Linux\\n# 시스템 프로그래밍 api를 볼 수 있음\\n!man open',\n",
       " '_i5': '#Unix & Linux\\n!man write',\n",
       " '_i6': \"f = open('test.txt')\\nprint(f.read())\\nf.close()\\nprint(f.closed)\",\n",
       " '_i7': \"with open('test.txt') as f:\\n    print(f.readlines())\\n    print(f.closed)\\n    \\nprint(f.closed)\",\n",
       " '_i8': \"colors = ['red', 'green', 'blue']\\nprint(colors)\",\n",
       " 'colors': ['red', 'green', 'blue'],\n",
       " '_i9': 'def chk_colors():\\n    if \\'colors\\' in globals():\\n        print(\"True\")\\n    else:\\n        print(\"False\")\\n        \\nchk_colors()',\n",
       " 'chk_colors': <function __main__.chk_colors()>,\n",
       " '_i10': 'print(globals())',\n",
       " '_i11': 'globals()'}"
      ]
     },
     "execution_count": 11,
     "metadata": {},
     "output_type": "execute_result"
    }
   ],
   "source": [
    "globals()"
   ]
  },
  {
   "cell_type": "code",
   "execution_count": 12,
   "id": "943f2223",
   "metadata": {},
   "outputs": [
    {
     "name": "stdout",
     "output_type": "stream",
     "text": [
      "False\n"
     ]
    }
   ],
   "source": [
    "import pickle\n",
    "\n",
    "f = open('colors', 'wb')\n",
    "# dump는 저장하라는 것\n",
    "pickle.dump(colors, f)\n",
    "f.close()\n",
    "\n",
    "del colors\n",
    "\n",
    "chk_colors()"
   ]
  },
  {
   "cell_type": "code",
   "execution_count": 14,
   "id": "7a87c4e2",
   "metadata": {},
   "outputs": [
    {
     "data": {
      "text/plain": [
       "{'__name__': '__main__',\n",
       " '__doc__': 'Automatically created module for IPython interactive environment',\n",
       " '__package__': None,\n",
       " '__loader__': None,\n",
       " '__spec__': None,\n",
       " '__builtin__': <module 'builtins' (built-in)>,\n",
       " '__builtins__': <module 'builtins' (built-in)>,\n",
       " '_ih': ['',\n",
       "  \"f = open('test.txt', 'w')\\nprint(f.write('Python Basic Programming For Interconnect with Web'))\\nf.close()\",\n",
       "  \"get_ipython().system('ls')\",\n",
       "  \"get_ipython().system('type test.txt')\",\n",
       "  \"# Unix & Linux\\n# 시스템 프로그래밍 api를 볼 수 있음\\nget_ipython().system('man open')\",\n",
       "  \"#Unix & Linux\\nget_ipython().system('man write')\",\n",
       "  \"f = open('test.txt')\\nprint(f.read())\\nf.close()\\nprint(f.closed)\",\n",
       "  \"with open('test.txt') as f:\\n    print(f.readlines())\\n    print(f.closed)\\n    \\nprint(f.closed)\",\n",
       "  \"colors = ['red', 'green', 'blue']\\nprint(colors)\",\n",
       "  'def chk_colors():\\n    if \\'colors\\' in globals():\\n        print(\"True\")\\n    else:\\n        print(\"False\")\\n        \\nchk_colors()',\n",
       "  'print(globals())',\n",
       "  'globals()',\n",
       "  \"import pickle\\n\\nf = open('colors', 'wb')\\npickle.dump(colors, f)\\nf.close()\\n\\ndel colors\\n\\nchk_colors()\",\n",
       "  'global()',\n",
       "  'globals()'],\n",
       " '_oh': {11: {...}},\n",
       " '_dh': ['/Users/wonseokkim/sw_env/python_works/PythonWorkshop'],\n",
       " 'In': ['',\n",
       "  \"f = open('test.txt', 'w')\\nprint(f.write('Python Basic Programming For Interconnect with Web'))\\nf.close()\",\n",
       "  \"get_ipython().system('ls')\",\n",
       "  \"get_ipython().system('type test.txt')\",\n",
       "  \"# Unix & Linux\\n# 시스템 프로그래밍 api를 볼 수 있음\\nget_ipython().system('man open')\",\n",
       "  \"#Unix & Linux\\nget_ipython().system('man write')\",\n",
       "  \"f = open('test.txt')\\nprint(f.read())\\nf.close()\\nprint(f.closed)\",\n",
       "  \"with open('test.txt') as f:\\n    print(f.readlines())\\n    print(f.closed)\\n    \\nprint(f.closed)\",\n",
       "  \"colors = ['red', 'green', 'blue']\\nprint(colors)\",\n",
       "  'def chk_colors():\\n    if \\'colors\\' in globals():\\n        print(\"True\")\\n    else:\\n        print(\"False\")\\n        \\nchk_colors()',\n",
       "  'print(globals())',\n",
       "  'globals()',\n",
       "  \"import pickle\\n\\nf = open('colors', 'wb')\\npickle.dump(colors, f)\\nf.close()\\n\\ndel colors\\n\\nchk_colors()\",\n",
       "  'global()',\n",
       "  'globals()'],\n",
       " 'Out': {11: {...}},\n",
       " 'get_ipython': <bound method InteractiveShell.get_ipython of <ipykernel.zmqshell.ZMQInteractiveShell object at 0x7f9a50fac5b0>>,\n",
       " 'exit': <IPython.core.autocall.ZMQExitAutocall at 0x7f9a51002d00>,\n",
       " 'quit': <IPython.core.autocall.ZMQExitAutocall at 0x7f9a51002d00>,\n",
       " '_': {...},\n",
       " '__': '',\n",
       " '___': '',\n",
       " '_i': 'global()',\n",
       " '_ii': \"import pickle\\n\\nf = open('colors', 'wb')\\npickle.dump(colors, f)\\nf.close()\\n\\ndel colors\\n\\nchk_colors()\",\n",
       " '_iii': 'globals()',\n",
       " '_i1': \"f = open('test.txt', 'w')\\nprint(f.write('Python Basic Programming For Interconnect with Web'))\\nf.close()\",\n",
       " 'f': <_io.BufferedWriter name='colors'>,\n",
       " '_i2': '!ls',\n",
       " '_exit_code': 0,\n",
       " '_i3': '!type test.txt',\n",
       " '_i4': '# Unix & Linux\\n# 시스템 프로그래밍 api를 볼 수 있음\\n!man open',\n",
       " '_i5': '#Unix & Linux\\n!man write',\n",
       " '_i6': \"f = open('test.txt')\\nprint(f.read())\\nf.close()\\nprint(f.closed)\",\n",
       " '_i7': \"with open('test.txt') as f:\\n    print(f.readlines())\\n    print(f.closed)\\n    \\nprint(f.closed)\",\n",
       " '_i8': \"colors = ['red', 'green', 'blue']\\nprint(colors)\",\n",
       " '_i9': 'def chk_colors():\\n    if \\'colors\\' in globals():\\n        print(\"True\")\\n    else:\\n        print(\"False\")\\n        \\nchk_colors()',\n",
       " 'chk_colors': <function __main__.chk_colors()>,\n",
       " '_i10': 'print(globals())',\n",
       " '_i11': 'globals()',\n",
       " '_11': {...},\n",
       " '_i12': \"import pickle\\n\\nf = open('colors', 'wb')\\npickle.dump(colors, f)\\nf.close()\\n\\ndel colors\\n\\nchk_colors()\",\n",
       " 'pickle': <module 'pickle' from '/Users/wonseokkim/sw_env/anaconda3/lib/python3.8/pickle.py'>,\n",
       " '_i13': 'global()',\n",
       " '_i14': 'globals()'}"
      ]
     },
     "execution_count": 14,
     "metadata": {},
     "output_type": "execute_result"
    }
   ],
   "source": [
    "globals()"
   ]
  },
  {
   "cell_type": "code",
   "execution_count": 15,
   "id": "94eb339f",
   "metadata": {},
   "outputs": [
    {
     "name": "stdout",
     "output_type": "stream",
     "text": [
      "['red', 'green', 'blue']\n"
     ]
    }
   ],
   "source": [
    "f = open('colors', 'rb')\n",
    "# load는 다시 불러오기\n",
    "colors = pickle.load(f)\n",
    "f.close()\n",
    "\n",
    "print(colors)"
   ]
  },
  {
   "cell_type": "code",
   "execution_count": 16,
   "id": "e03ee7c9",
   "metadata": {},
   "outputs": [
    {
     "name": "stdout",
     "output_type": "stream",
     "text": [
      "True\n"
     ]
    }
   ],
   "source": [
    "chk_colors()"
   ]
  },
  {
   "cell_type": "code",
   "execution_count": 17,
   "id": "3f2babd5",
   "metadata": {},
   "outputs": [
    {
     "data": {
      "text/plain": [
       "{'__name__': '__main__',\n",
       " '__doc__': 'Automatically created module for IPython interactive environment',\n",
       " '__package__': None,\n",
       " '__loader__': None,\n",
       " '__spec__': None,\n",
       " '__builtin__': <module 'builtins' (built-in)>,\n",
       " '__builtins__': <module 'builtins' (built-in)>,\n",
       " '_ih': ['',\n",
       "  \"f = open('test.txt', 'w')\\nprint(f.write('Python Basic Programming For Interconnect with Web'))\\nf.close()\",\n",
       "  \"get_ipython().system('ls')\",\n",
       "  \"get_ipython().system('type test.txt')\",\n",
       "  \"# Unix & Linux\\n# 시스템 프로그래밍 api를 볼 수 있음\\nget_ipython().system('man open')\",\n",
       "  \"#Unix & Linux\\nget_ipython().system('man write')\",\n",
       "  \"f = open('test.txt')\\nprint(f.read())\\nf.close()\\nprint(f.closed)\",\n",
       "  \"with open('test.txt') as f:\\n    print(f.readlines())\\n    print(f.closed)\\n    \\nprint(f.closed)\",\n",
       "  \"colors = ['red', 'green', 'blue']\\nprint(colors)\",\n",
       "  'def chk_colors():\\n    if \\'colors\\' in globals():\\n        print(\"True\")\\n    else:\\n        print(\"False\")\\n        \\nchk_colors()',\n",
       "  'print(globals())',\n",
       "  'globals()',\n",
       "  \"import pickle\\n\\nf = open('colors', 'wb')\\npickle.dump(colors, f)\\nf.close()\\n\\ndel colors\\n\\nchk_colors()\",\n",
       "  'global()',\n",
       "  'globals()',\n",
       "  \"f = open('colors', 'rb')\\ncolors = pickle.load(f)\\nf.close()\\n\\nprint(colors)\",\n",
       "  'chk_colors()',\n",
       "  'globals()'],\n",
       " '_oh': {11: {...}, 14: {...}},\n",
       " '_dh': ['/Users/wonseokkim/sw_env/python_works/PythonWorkshop'],\n",
       " 'In': ['',\n",
       "  \"f = open('test.txt', 'w')\\nprint(f.write('Python Basic Programming For Interconnect with Web'))\\nf.close()\",\n",
       "  \"get_ipython().system('ls')\",\n",
       "  \"get_ipython().system('type test.txt')\",\n",
       "  \"# Unix & Linux\\n# 시스템 프로그래밍 api를 볼 수 있음\\nget_ipython().system('man open')\",\n",
       "  \"#Unix & Linux\\nget_ipython().system('man write')\",\n",
       "  \"f = open('test.txt')\\nprint(f.read())\\nf.close()\\nprint(f.closed)\",\n",
       "  \"with open('test.txt') as f:\\n    print(f.readlines())\\n    print(f.closed)\\n    \\nprint(f.closed)\",\n",
       "  \"colors = ['red', 'green', 'blue']\\nprint(colors)\",\n",
       "  'def chk_colors():\\n    if \\'colors\\' in globals():\\n        print(\"True\")\\n    else:\\n        print(\"False\")\\n        \\nchk_colors()',\n",
       "  'print(globals())',\n",
       "  'globals()',\n",
       "  \"import pickle\\n\\nf = open('colors', 'wb')\\npickle.dump(colors, f)\\nf.close()\\n\\ndel colors\\n\\nchk_colors()\",\n",
       "  'global()',\n",
       "  'globals()',\n",
       "  \"f = open('colors', 'rb')\\ncolors = pickle.load(f)\\nf.close()\\n\\nprint(colors)\",\n",
       "  'chk_colors()',\n",
       "  'globals()'],\n",
       " 'Out': {11: {...}, 14: {...}},\n",
       " 'get_ipython': <bound method InteractiveShell.get_ipython of <ipykernel.zmqshell.ZMQInteractiveShell object at 0x7f9a50fac5b0>>,\n",
       " 'exit': <IPython.core.autocall.ZMQExitAutocall at 0x7f9a51002d00>,\n",
       " 'quit': <IPython.core.autocall.ZMQExitAutocall at 0x7f9a51002d00>,\n",
       " '_': {...},\n",
       " '__': {...},\n",
       " '___': '',\n",
       " '_i': 'chk_colors()',\n",
       " '_ii': \"f = open('colors', 'rb')\\ncolors = pickle.load(f)\\nf.close()\\n\\nprint(colors)\",\n",
       " '_iii': 'globals()',\n",
       " '_i1': \"f = open('test.txt', 'w')\\nprint(f.write('Python Basic Programming For Interconnect with Web'))\\nf.close()\",\n",
       " 'f': <_io.BufferedReader name='colors'>,\n",
       " '_i2': '!ls',\n",
       " '_exit_code': 0,\n",
       " '_i3': '!type test.txt',\n",
       " '_i4': '# Unix & Linux\\n# 시스템 프로그래밍 api를 볼 수 있음\\n!man open',\n",
       " '_i5': '#Unix & Linux\\n!man write',\n",
       " '_i6': \"f = open('test.txt')\\nprint(f.read())\\nf.close()\\nprint(f.closed)\",\n",
       " '_i7': \"with open('test.txt') as f:\\n    print(f.readlines())\\n    print(f.closed)\\n    \\nprint(f.closed)\",\n",
       " '_i8': \"colors = ['red', 'green', 'blue']\\nprint(colors)\",\n",
       " '_i9': 'def chk_colors():\\n    if \\'colors\\' in globals():\\n        print(\"True\")\\n    else:\\n        print(\"False\")\\n        \\nchk_colors()',\n",
       " 'chk_colors': <function __main__.chk_colors()>,\n",
       " '_i10': 'print(globals())',\n",
       " '_i11': 'globals()',\n",
       " '_11': {...},\n",
       " '_i12': \"import pickle\\n\\nf = open('colors', 'wb')\\npickle.dump(colors, f)\\nf.close()\\n\\ndel colors\\n\\nchk_colors()\",\n",
       " 'pickle': <module 'pickle' from '/Users/wonseokkim/sw_env/anaconda3/lib/python3.8/pickle.py'>,\n",
       " '_i13': 'global()',\n",
       " '_i14': 'globals()',\n",
       " '_14': {...},\n",
       " '_i15': \"f = open('colors', 'rb')\\ncolors = pickle.load(f)\\nf.close()\\n\\nprint(colors)\",\n",
       " 'colors': ['red', 'green', 'blue'],\n",
       " '_i16': 'chk_colors()',\n",
       " '_i17': 'globals()'}"
      ]
     },
     "execution_count": 17,
     "metadata": {},
     "output_type": "execute_result"
    }
   ],
   "source": [
    "globals()"
   ]
  },
  {
   "cell_type": "code",
   "execution_count": 18,
   "id": "83e58ad7",
   "metadata": {},
   "outputs": [
    {
     "name": "stdout",
     "output_type": "stream",
     "text": [
      "<__main__.Test object at 0x7f9a510b8460>\n",
      "Test\n"
     ]
    }
   ],
   "source": [
    "class Test:\n",
    "    var = None\n",
    "    \n",
    "a = Test()\n",
    "a.var = \"Test\"\n",
    "\n",
    "f = open('test', 'wb')\n",
    "pickle.dump(a, f)\n",
    "f.close()\n",
    "\n",
    "print(a)\n",
    "print(a.var)\n",
    "\n",
    "del a"
   ]
  },
  {
   "cell_type": "code",
   "execution_count": 19,
   "id": "17311535",
   "metadata": {},
   "outputs": [
    {
     "ename": "NameError",
     "evalue": "name 'a' is not defined",
     "output_type": "error",
     "traceback": [
      "\u001b[0;31m---------------------------------------------------------------------------\u001b[0m",
      "\u001b[0;31mNameError\u001b[0m                                 Traceback (most recent call last)",
      "\u001b[0;32m<ipython-input-19-bca0e2660b9f>\u001b[0m in \u001b[0;36m<module>\u001b[0;34m\u001b[0m\n\u001b[0;32m----> 1\u001b[0;31m \u001b[0mprint\u001b[0m\u001b[0;34m(\u001b[0m\u001b[0ma\u001b[0m\u001b[0;34m)\u001b[0m\u001b[0;34m\u001b[0m\u001b[0;34m\u001b[0m\u001b[0m\n\u001b[0m",
      "\u001b[0;31mNameError\u001b[0m: name 'a' is not defined"
     ]
    }
   ],
   "source": [
    "print(a)"
   ]
  },
  {
   "cell_type": "code",
   "execution_count": 20,
   "id": "e9bfbfcb",
   "metadata": {},
   "outputs": [
    {
     "name": "stdout",
     "output_type": "stream",
     "text": [
      "<__main__.Test object at 0x7f9a510a4490>\n",
      "Test\n"
     ]
    }
   ],
   "source": [
    "f = open('test', 'rb')\n",
    "b = pickle.load(f)\n",
    "f.close()\n",
    "\n",
    "print(b)\n",
    "print(b.var)"
   ]
  },
  {
   "cell_type": "code",
   "execution_count": null,
   "id": "e03c12c2",
   "metadata": {},
   "outputs": [],
   "source": []
  }
 ],
 "metadata": {
  "kernelspec": {
   "display_name": "Python 3",
   "language": "python",
   "name": "python3"
  },
  "language_info": {
   "codemirror_mode": {
    "name": "ipython",
    "version": 3
   },
   "file_extension": ".py",
   "mimetype": "text/x-python",
   "name": "python",
   "nbconvert_exporter": "python",
   "pygments_lexer": "ipython3",
   "version": "3.8.8"
  }
 },
 "nbformat": 4,
 "nbformat_minor": 5
}
