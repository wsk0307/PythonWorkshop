{
 "cells": [
  {
   "cell_type": "code",
   "execution_count": 1,
   "id": "1519a031",
   "metadata": {},
   "outputs": [],
   "source": [
    "# 파이썬에서 주석은 '#' 으로 작성합니다."
   ]
  },
  {
   "cell_type": "code",
   "execution_count": 2,
   "id": "e34ef2ed",
   "metadata": {},
   "outputs": [],
   "source": [
    "### File Write\n",
    "data = \"hello\"\n",
    "with open(\"test.txt\", \"w\") as fp:\n",
    "    fp.write(data)"
   ]
  },
  {
   "cell_type": "code",
   "execution_count": 3,
   "id": "9d70652a",
   "metadata": {},
   "outputs": [
    {
     "name": "stdout",
     "output_type": "stream",
     "text": [
      "파이썬 x쉽네 ?\n",
      "hello\n"
     ]
    }
   ],
   "source": [
    "### File Read\n",
    "with open(\"test.txt\", \"r\") as fp:\n",
    "    print(\"파이썬 x쉽네 ?\")\n",
    "    print(fp.read())"
   ]
  },
  {
   "cell_type": "code",
   "execution_count": null,
   "id": "9700365f",
   "metadata": {},
   "outputs": [],
   "source": []
  }
 ],
 "metadata": {
  "kernelspec": {
   "display_name": "Python 3",
   "language": "python",
   "name": "python3"
  },
  "language_info": {
   "codemirror_mode": {
    "name": "ipython",
    "version": 3
   },
   "file_extension": ".py",
   "mimetype": "text/x-python",
   "name": "python",
   "nbconvert_exporter": "python",
   "pygments_lexer": "ipython3",
   "version": "3.8.8"
  }
 },
 "nbformat": 4,
 "nbformat_minor": 5
}
