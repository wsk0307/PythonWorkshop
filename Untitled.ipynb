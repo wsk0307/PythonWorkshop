{
 "cells": [
  {
   "cell_type": "code",
   "execution_count": 1,
   "id": "538ff5f1",
   "metadata": {},
   "outputs": [],
   "source": [
    "# 파이썬에서 주석은 '#' 으로 작성합니다."
   ]
  },
  {
   "cell_type": "code",
   "execution_count": 2,
   "id": "b3107fb3",
   "metadata": {},
   "outputs": [],
   "source": [
    "### File Write\n",
    "data = \"hello\"\n",
    "with open(\"test.txt\", \"w\") as fp:\n",
    "    fp.write(data)"
   ]
  },
  {
   "cell_type": "code",
   "execution_count": 3,
   "id": "51d4ff4b",
   "metadata": {},
   "outputs": [
    {
     "name": "stdout",
     "output_type": "stream",
     "text": [
      "파이썬 x쉽네 ?\n",
      "hello\n"
     ]
    }
   ],
   "source": [
    "### File Read\n",
    "with open(\"test.txt\", \"r\") as fp:\n",
    "    print(\"파이썬 x쉽네 ?\")\n",
    "    print(fp.read())"
   ]
  },
  {
   "cell_type": "code",
   "execution_count": 4,
   "id": "31a30957",
   "metadata": {},
   "outputs": [
    {
     "name": "stdout",
     "output_type": "stream",
     "text": [
      "README.md      Untitled.ipynb test.txt\r\n"
     ]
    }
   ],
   "source": [
    "!ls"
   ]
  },
  {
   "cell_type": "code",
   "execution_count": 5,
   "id": "1497e4d9",
   "metadata": {},
   "outputs": [],
   "source": [
    "import requests"
   ]
  },
  {
   "cell_type": "code",
   "execution_count": 6,
   "id": "10b1c34e",
   "metadata": {},
   "outputs": [],
   "source": [
    "# Image URL\n",
    "url = \"https://search1.kakaocdn.net/argon/600x0_65_wr/ImZk3b2X1w8\""
   ]
  },
  {
   "cell_type": "code",
   "execution_count": 7,
   "id": "b4298d6e",
   "metadata": {},
   "outputs": [],
   "source": [
    "# URL image 요청\n",
    "img_response = requests.get(url)"
   ]
  },
  {
   "cell_type": "code",
   "execution_count": 8,
   "id": "2084ee3c",
   "metadata": {},
   "outputs": [
    {
     "name": "stdout",
     "output_type": "stream",
     "text": [
      "요청 성공!\n"
     ]
    }
   ],
   "source": [
    "# 요청에 성공했다면\n",
    "if img_response.status_code == 200:\n",
    "    print(\"요청 성공!\")\n",
    "    with open(\"request_success.jpg\", \"wb\") as fp:\n",
    "        fp.write(img_response.content)"
   ]
  },
  {
   "cell_type": "code",
   "execution_count": 9,
   "id": "83ee20d9",
   "metadata": {},
   "outputs": [
    {
     "name": "stdout",
     "output_type": "stream",
     "text": [
      "README.md           Untitled.ipynb      request_success.jpg test.txt\r\n"
     ]
    }
   ],
   "source": [
    "!ls"
   ]
  },
  {
   "cell_type": "code",
   "execution_count": null,
   "id": "8b374742",
   "metadata": {},
   "outputs": [],
   "source": []
  },
  {
   "cell_type": "code",
   "execution_count": null,
   "id": "ccf81d8c",
   "metadata": {},
   "outputs": [],
   "source": []
  },
  {
   "cell_type": "code",
   "execution_count": 10,
   "id": "b721e083",
   "metadata": {},
   "outputs": [],
   "source": [
    "# Kakao Daum 검색 API 활용하기\n",
    "import requests\n",
    "import json"
   ]
  },
  {
   "cell_type": "code",
   "execution_count": 11,
   "id": "66e433cd",
   "metadata": {},
   "outputs": [],
   "source": [
    "# Image 검색 URL\n",
    "url = \"https://dapi.kakao.com/v2/search/image\""
   ]
  },
  {
   "cell_type": "code",
   "execution_count": 12,
   "id": "08201266",
   "metadata": {},
   "outputs": [],
   "source": [
    "# 요청 헤더\n",
    "headers = {\n",
    "    \"Authorization\": \"KakaoAK 4a0ef335a439753d31b31b38de362400\"\n",
    "}"
   ]
  },
  {
   "cell_type": "code",
   "execution_count": 13,
   "id": "a890a931",
   "metadata": {},
   "outputs": [],
   "source": [
    "\n",
    "# 찾고자 하는 데이터\n",
    "data = {\n",
    "    \"query\" : \"리눅스\"\n",
    "}"
   ]
  },
  {
   "cell_type": "code",
   "execution_count": 14,
   "id": "b1c5beac",
   "metadata": {},
   "outputs": [],
   "source": [
    "# Image 검색 요청\n",
    "response = requests.post(url, headers=headers, data=data)"
   ]
  },
  {
   "cell_type": "code",
   "execution_count": 15,
   "id": "f29e1c68",
   "metadata": {},
   "outputs": [
    {
     "name": "stdout",
     "output_type": "stream",
     "text": [
      "200\n"
     ]
    }
   ],
   "source": [
    "print(response.status_code)"
   ]
  },
  {
   "cell_type": "code",
   "execution_count": 16,
   "id": "56c7003c",
   "metadata": {},
   "outputs": [],
   "source": [
    "# 검색해온 모든 이미지를 저장한다.\n",
    "def save_image(image_url, file_name):\n",
    "    img_response = requests.get(image_url)\n",
    "    \n",
    "    # 요청 성공!\n",
    "    if img_response.status_code == 200:\n",
    "        # 저장\n",
    "        with open(file_name, \"wb\") as fp:\n",
    "            fp.write(img_response.content)"
   ]
  },
  {
   "cell_type": "code",
   "execution_count": 17,
   "id": "4e8a1acb",
   "metadata": {},
   "outputs": [
    {
     "name": "stdout",
     "output_type": "stream",
     "text": [
      "[0th] image_url =  http://cfile29.uf.tistory.com/image/26DB0F33597B12B02558BD\n",
      "[1th] image_url =  http://cfile25.uf.tistory.com/image/224AA833597B12B11F0C1F\n",
      "[2th] image_url =  http://cfile22.uf.tistory.com/image/27467E33597B12B01FA465\n",
      "[3th] image_url =  http://postfiles11.naver.net/MjAyMTAxMDNfMjAy/MDAxNjA5NjYyMTU3MDcw.Hr3st5IsWPOjd3Fs94weZxI-lOd266JqtmplUzyvoPwg.aXGU84GVN7PTdwz5065B-I4QC5BjZO-s0yrOi8PlRGIg.PNG.lionpark999/%EB%A6%AC%EB%88%85%EC%8A%A4_%EB%94%94%EB%A0%89%ED%84%B0%EB%A6%AC.png?type=w773\n",
      "[4th] image_url =  https://t1.daumcdn.net/news/202103/12/ZDNetKorea/20210312105711514mebm.jpg\n",
      "[5th] image_url =  https://t1.daumcdn.net/news/202101/14/ZDNetKorea/20210114151324150fenj.jpg\n",
      "[6th] image_url =  http://postfiles11.naver.net/MjAyMDA1MjhfOTYg/MDAxNTkwNjQ5Mzc5MjA2.QpiHqSNuyNrlgvKOhGCeOJvlCX1HnaYGHK74LSjwH9sg.VDJuN1b4cM_i6GSoUjeDlTfTz0dmLYq7pWXcUXjGXxIg.JPEG.bvmi3619/%EB%A6%AC%EB%88%85%EC%8A%A4.JPG?type=w773\n",
      "[7th] image_url =  http://t1.daumcdn.net/cfile/tistory/2446BC38584DD16E1F\n",
      "[8th] image_url =  http://postfiles13.naver.net/20130212_204/predatororc_1360649042105Sinhx_JPEG/%B8%AE%B4%AA%BD%BA1.JPG?type=w3\n",
      "[9th] image_url =  http://t1.daumcdn.net/cfile/tistory/2160594B52705CD61E\n",
      "[10th] image_url =  http://postfiles7.naver.net/20120819_230/wbo1026_1345347062775KyJFo_JPEG/%B8%AE%B4%AA%BD%BA.jpg?type=w2\n",
      "[11th] image_url =  http://img.etnews.com/news_ebuzz/issue/afieldfile/2012/01/04/c_bk010601_86285_14.jpg\n",
      "[12th] image_url =  http://img.etnews.com/news_ebuzz/issue/afieldfile/2012/01/04/c_bk010601_86285_11.jpg\n",
      "[13th] image_url =  http://postfiles10.naver.net/20130921_89/welly6_1379731762076mRTEf_PNG/%BC%AD%B9%F6-%B8%AE%B4%AA%BD%BA.png?type=w3\n",
      "[14th] image_url =  http://img.etnews.com/news_ebuzz/issue/afieldfile/2012/01/04/c_bk010601_86285_3.jpg\n",
      "[15th] image_url =  http://t1.daumcdn.net/cfile/tistory/21701736573ECD1421\n",
      "[16th] image_url =  http://postfiles14.naver.net/20121203_45/seulbeeya_13545206074911ztFF_JPEG/%B8%AE%B4%AA%BD%BA.jpg?type=w1\n",
      "[17th] image_url =  http://postfiles12.naver.net/MjAxOTA5MTlfMTMw/MDAxNTY4ODc2NjQ0NTc0.aD90mI4i4sLsJiLffx7-1fHzi1wZM4nFTDdMzLB7AYUg.hYSE-Sp3pkc5tc8qpeg-jeSktReoTy4dQux6vx912Dsg.JPEG.wnwhdgns12/%EB%A6%AC%EB%88%85%EC%8A%A4.jpg?type=w966\n",
      "[18th] image_url =  https://t1.daumcdn.net/news/202008/26/ZDNetKorea/20200826142416264srdm.jpg\n",
      "[19th] image_url =  http://t1.daumcdn.net/cfile/tistory/26724736573ECD151F\n",
      "[20th] image_url =  http://t1.daumcdn.net/cfile/tistory/2144AE3F57C8F7A601\n",
      "[21th] image_url =  http://t1.daumcdn.net/cfile/tistory/9998094A5C6F9DE214\n",
      "[22th] image_url =  http://postfiles6.naver.net/MjAyMDAxMjNfMzQg/MDAxNTc5NzUyNTQ0MDY3.ZT6EOxWwkD8Bjr38qurFvcrRyYp1kRtGoJDIbffT1Egg.MnH8tlFjjcMrowfivm44JG3aEpRDMViB6rRYtZOxnXQg.JPEG.donghwan0952/%EB%A6%AC%EB%88%85%EC%8A%A4.jpg?type=w773\n",
      "[23th] image_url =  http://t1.daumcdn.net/cfile/tistory/256960345900DEB20F\n",
      "[24th] image_url =  http://t1.daumcdn.net/cfile/tistory/99E558335A055EF503\n",
      "[25th] image_url =  http://t1.daumcdn.net/cfile/tistory/261EF74658B959B421\n",
      "[26th] image_url =  http://t1.daumcdn.net/cfile/tistory/23409539584AC9920D\n",
      "[27th] image_url =  http://postfiles4.naver.net/20110415_99/gojump0713_1302831438681auqBU_JPEG/%BC%F6%BC%BC%B8%AE%B4%AA%BD%BA.jpg?type=w2\n",
      "[28th] image_url =  http://postfiles6.naver.net/20110225_117/wns2249_1298597856766lbclI_JPEG/%B8%AE%B4%AA%BD%BA1.jpg?type=w1\n",
      "[29th] image_url =  http://postfiles12.naver.net/20110217_75/choryuns_1297906326607z9WWt_JPEG/%B8%AE%B4%AA%BD%BA.jpg?type=w3\n",
      "[30th] image_url =  http://t1.daumcdn.net/cfile/tistory/233CDB37592E7FE32A\n",
      "[31th] image_url =  http://t1.daumcdn.net/cfile/tistory/99EF013D5A67135636\n",
      "[32th] image_url =  http://postfiles16.naver.net/20160721_63/flekdh_1469060200441hT8lN_PNG/%B8%AE%B4%AA%BD%BA.PNG?type=w773\n",
      "[33th] image_url =  http://t1.daumcdn.net/cfile/tistory/99B25C465A7B184112\n",
      "[34th] image_url =  http://postfiles9.naver.net/20160628_104/oidoman_1467073419858aVtTh_JPEG/%BF%EC%BA%D0%C5%F5%B8%AE%B4%AA%BD%BA.jpg?type=w3\n",
      "[35th] image_url =  http://postfiles10.naver.net/20111029_169/argonz_1319890907776iYK7a_JPEG/%B8%AE%B4%AA%BD%BA_%B1%B8%C1%B6.jpg?type=w2\n",
      "[36th] image_url =  http://postfiles2.naver.net/20111114_209/argonz_1321254501975nATSP_JPEG/%B8%AE%B4%AA%BD%BA_VI.jpg?type=w2\n",
      "[37th] image_url =  http://postfiles9.naver.net/MjAxOTExMDRfMTIw/MDAxNTcyODQxNzM3NjIx.nUP7lSiVcJoaiCY6IU1v5YVPjfJ6W9wKgRgwi4Bg7Twg.x2z5LHd_iwUwtLpXcuKwISAmZkb_VOdWm1fqL7ylp_Ig.PNG.kimdongy1000/%EB%A6%AC%EB%88%85%EC%8A%A4_vi.PNG?type=w773\n",
      "[38th] image_url =  https://t1.daumcdn.net/tistoryfile/fs7/13_3_31_27_blog101996_attach_0_18.jpg?original\n",
      "[39th] image_url =  http://postfiles14.naver.net/20110415_61/gojump0713_13028319502279pOqA_JPEG/%C0%AF%BA%D0%C5%F5_%B8%AE%B4%AA%BD%BA.jpg?type=w2\n",
      "[40th] image_url =  http://postfiles12.naver.net/MjAxOTA0MTlfMjE1/MDAxNTU1NjQ4MjE5MDA3.sIxTj_vYE8jZdnsjPIs_cnxZm5RqgAWkVRWipHT38rkg.qwhBcGMPMxjHro9IQq7WQQL7BRXsqshElCvAsUcIoYgg.PNG.vlwkclzls4wnj/%EB%A6%AC%EB%88%85%EC%8A%A4.png?type=w966\n",
      "[41th] image_url =  http://postfiles8.naver.net/MjAyMDEwMTJfNDEg/MDAxNjAyNDc1OTMxNzg1.wtxVM8Q6Ge5gbw_wbfOFp4mCJeRgbZCEcCS1Ze86g6og.L5W2Ff9rWpOlvN-tQZSHoTcZ7Vpw5qGo4TWmgMI_Mjog.PNG.nnnjky/%EB%A6%AC%EB%88%85%EC%8A%A4_%EA%B3%BC%EC%A0%95.PNG?type=w966\n",
      "[42th] image_url =  http://postfiles8.naver.net/20130320_151/flowered95_1363748562080eUrRH_PNG/%B8%AE%B4%AA%BD%BA%C7%D0%BF%F8%C3%DF%C3%B5.png?type=w3\n",
      "[43th] image_url =  http://t1.daumcdn.net/cfile/tistory/99F3F7475DD8DF7934\n",
      "[44th] image_url =  http://t1.daumcdn.net/cfile/tistory/997B48335A0673A813\n",
      "[45th] image_url =  https://t1.daumcdn.net/news/201912/12/ZDNetKorea/20191212173338789phxb.jpg\n",
      "[46th] image_url =  http://postfiles5.naver.net/20120922_212/hide9735_1348317661189jEuEr_PNG/%B8%AE%B4%AA%BD%BA%2C%C6%C4%C0%CF%BC%D3%BC%BA.png?type=w3\n",
      "[47th] image_url =  http://postfiles13.naver.net/20140916_12/dkqjwl4861_1410833469478I4474_JPEG/%B8%AE%B4%AA%BD%BA_%282%29.jpg?type=w1\n",
      "[48th] image_url =  http://postfiles8.naver.net/MjAxOTA4MTZfMTAg/MDAxNTY1OTMzNDAyMjE2.B7KpDsIxPcl-tnAKXX8aePGvOix5sOQyG0DHmhKOKUUg.3_Q4B40Ydue3_T4yWZX-O8hcTvy2-lLdEjo1hD1IVGUg.JPEG.ititbank/%EB%A6%AC%EB%88%85%EC%8A%A4_2.jpg?type=w580\n",
      "[49th] image_url =  http://t1.daumcdn.net/cfile/tistory/26714350543F532C35\n",
      "[50th] image_url =  http://postfiles1.naver.net/20121127_48/yum0811_1353974985864R7a1h_JPEG/%B8%AE%B4%AA%BD%BA.jpg?type=w3\n",
      "[51th] image_url =  http://postfiles7.naver.net/20140327_102/sjfkrn_1395886347316Qnchw_JPEG/%B8%AE%B4%AA%BD%BA8.jpg?type=w2\n",
      "[52th] image_url =  http://postfiles2.naver.net/data13/2006/2/14/289/%B8%AE%B4%AA%BD%BA-pooky337.jpg?type=w3\n",
      "[53th] image_url =  http://t1.daumcdn.net/cfile/tistory/99AADE3F5C8A144C2A\n",
      "[54th] image_url =  https://t1.daumcdn.net/tistoryfile/fs8/13_3_31_27_blog101996_attach_0_23.jpg?original\n",
      "[55th] image_url =  http://postfiles10.naver.net/MjAxOTAxMjVfMjEy/MDAxNTQ4NDEzNzk5MTMy.PYejNEgvD6twVlTtHBCRSJ46oks98zskw-NK_GDKH6sg.6GgY5X25HlRTv0j8VDa5R4j02WDeaweXoh2k-Qhfm8Qg.PNG.lastime1650/%EB%A6%AC%EB%88%85%EC%8A%A4.PNG?type=w773\n",
      "[56th] image_url =  http://t1.daumcdn.net/cfile/tistory/2174AE50543F532D30\n",
      "[57th] image_url =  http://postfiles10.naver.net/data20/2007/3/11/137/%B7%AF%B4%D7_%B8%AE%B4%AA%BD%BA-naesungbabo.jpg?type=w3\n",
      "[58th] image_url =  http://postfiles16.naver.net/20140429_271/radolii_1398749312895PEIBa_JPEG/%B8%AE%B4%AA%BD%BA_4.jpg?type=w2\n",
      "[59th] image_url =  http://t1.daumcdn.net/cfile/tistory/242DBF47583A6FB106\n",
      "[60th] image_url =  http://postfiles8.naver.net/20111128_167/argonz_13224804575696Elqi_JPEG/%B8%AE%B4%AA%BD%BA%BA%B8%BE%C8.jpg?type=w2\n",
      "[61th] image_url =  http://t1.daumcdn.net/cfile/tistory/99C49C3F5C8A144B2B\n",
      "[62th] image_url =  http://t1.daumcdn.net/cfile/tistory/2405DA445954A2780A\n",
      "[63th] image_url =  http://t1.daumcdn.net/cfile/tistory/26335F4A56FB696C2E\n",
      "[64th] image_url =  http://postfiles13.naver.net/MjAyMDExMTdfMTgz/MDAxNjA1NTk5MDg2MjMz.wl_Xmh54LNoHWPc1cNI4QyjgW701mP3IdhGyVbsQor4g.17TL0XbM4RdBYb-DPW_-phiTfx2CeRB-iFOvGUsooWMg.PNG.nnnjky/%EB%A6%AC%EB%88%85%EC%8A%A4.PNG?type=w966\n",
      "[65th] image_url =  http://t1.daumcdn.net/cfile/tistory/232F05345933E6E732\n",
      "[66th] image_url =  http://postfiles3.naver.net/20130815_178/ecjjmrikqo_1376577536323W3U9h_PNG/%B8%AE%B4%AA%BD%BA%C7%D0%BF%F8%C3%DF%C3%B52.png?type=w2\n",
      "[67th] image_url =  https://k.kakaocdn.net/dn/tFZW9/btqxxba7XAZ/6I5DSXedq3KzEiMJkjTZkK/img.jpg\n",
      "[68th] image_url =  http://postfiles4.naver.net/20130815_51/ecjjmrikqo_1376577603885Qh7NT_PNG/%B8%AE%B4%AA%BD%BA%C7%D0%BF%F8%C3%DF%C3%B53.png?type=w2\n"
     ]
    },
    {
     "name": "stdout",
     "output_type": "stream",
     "text": [
      "[69th] image_url =  http://postfiles9.naver.net/20130813_200/qfynoekzfu_1376375230823Ba6sH_PNG/%B8%AE%B4%AA%BD%BA%C3%DF%C3%B5%C7%D0%BF%F8.png?type=w2\n",
      "[70th] image_url =  http://t1.daumcdn.net/cfile/tistory/224875375885B77A24\n",
      "[71th] image_url =  http://postfiles6.naver.net/MjAxOTA4MTZfMTYw/MDAxNTY1OTMzMzk5MjI2.R7dPpAjGoKTktD1v3CcYsGx-TgoERdW_dk_O7KMt_GYg.nJuTD3lGcvzObZaz3rWg8jvy3qKJ_2CkuGEVM99I3Cog.JPEG.ititbank/%EB%A6%AC%EB%88%85%EC%8A%A4_%EC%BB%A4%EB%A6%AC%ED%81%98%EB%9F%BC.jpg?type=w580\n",
      "[72th] image_url =  http://postfiles15.naver.net/MjAyMDA0MDNfNDYg/MDAxNTg1OTEwNzkzNzIw.dAK_4AN53H7TNVxyi2-ooZsVjsHuT3GLds1AryfRkUwg.5mr3Zia6-M1nIgl-bFt0cFc_dFFLwmO2qlrMLO0B2R4g.JPEG.cdh0584/%EC%82%AC%EB%B3%B8_-%EB%A6%AC%EB%88%85%EC%8A%A4%EB%A7%88%EC%8A%A4%ED%84%B0.jpg?type=w966\n",
      "[73th] image_url =  http://postfiles5.naver.net/20130731_164/ecjjmrikqo_1375238878160IUUsI_PNG/%B8%AE%B4%AA%BD%BA%C7%D0%BF%F8%BE%C6%C0%CC%C6%BC%B9%F0%C5%A92.png?type=w2\n",
      "[74th] image_url =  http://postfiles2.naver.net/20160318_17/rabori0925_1458279559428yfjuS_JPEG/%B8%AE%B4%AA%BD%BA%B8%ED%B7%C9%BE%EE.jpg?type=w1\n",
      "[75th] image_url =  http://postfiles10.naver.net/20091220_41/acousinger_1261289702820ycVlg_jpg/%EB%A6%AC%EB%88%85%EC%8A%A410_acousinger.jpg?type=w2\n",
      "[76th] image_url =  http://book.daum-img.net/R148x212/KOR9788979142952\n",
      "[77th] image_url =  http://t1.daumcdn.net/cfile/tistory/2245F53558E096D810\n",
      "[78th] image_url =  http://postfiles6.naver.net/MjAxOTExMjZfMjU1/MDAxNTc0NzUxMzExNjg0.MS2NUNPLwmKX6nvkhqpiNM9O7PZfp7i3lVLpV79f4Qwg.qZDfBhh8XBB_W_nzPKUYskjNFM7mF-jEHkwyM7zHi2Ig.PNG.tjoeun_web/%EB%A6%AC%EB%88%85%EC%8A%A4%EB%A7%88%EC%8A%A4%ED%84%B0_5.png?type=w966\n",
      "[79th] image_url =  http://postfiles7.naver.net/20160715_86/soulful_man_1468571461092mwgTU_PNG/%B8%AE%B4%AA%BD%BA_15.PNG?type=w2\n"
     ]
    }
   ],
   "source": [
    "if response.status_code != 200:\n",
    "    print(\"error 발생!\")\n",
    "else:\n",
    "    count = 0\n",
    "    for image_info in response.json()['documents']:\n",
    "        print(f\"[{count}th] image_url = \", image_info['image_url'])\n",
    "        \n",
    "        # 저장될 이미지 파일명\n",
    "        count = count + 1\n",
    "        file_name = \"test_%d.jpg\" %(count)\n",
    "        \n",
    "        # 이미지 저장\n",
    "        save_image(image_info['image_url'], file_name)"
   ]
  },
  {
   "cell_type": "code",
   "execution_count": null,
   "id": "382dde37",
   "metadata": {},
   "outputs": [],
   "source": []
  }
 ],
 "metadata": {
  "kernelspec": {
   "display_name": "Python 3",
   "language": "python",
   "name": "python3"
  },
  "language_info": {
   "codemirror_mode": {
    "name": "ipython",
    "version": 3
   },
   "file_extension": ".py",
   "mimetype": "text/x-python",
   "name": "python",
   "nbconvert_exporter": "python",
   "pygments_lexer": "ipython3",
   "version": "3.8.8"
  }
 },
 "nbformat": 4,
 "nbformat_minor": 5
}
