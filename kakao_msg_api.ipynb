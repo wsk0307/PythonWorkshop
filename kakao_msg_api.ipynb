{
 "cells": [
  {
   "cell_type": "code",
   "execution_count": 48,
   "id": "e8836705",
   "metadata": {},
   "outputs": [
    {
     "name": "stdout",
     "output_type": "stream",
     "text": [
      " * Serving Flask app \"__main__\" (lazy loading)\n",
      " * Environment: production\n",
      "\u001b[31m   WARNING: This is a development server. Do not use it in a production deployment.\u001b[0m\n",
      "\u001b[2m   Use a production WSGI server instead.\u001b[0m\n",
      " * Debug mode: off\n"
     ]
    },
    {
     "name": "stderr",
     "output_type": "stream",
     "text": [
      " * Running on http://127.0.0.1:5000/ (Press CTRL+C to quit)\n",
      "127.0.0.1 - - [29/Sep/2021 19:23:30] \"\u001b[37mGET / HTTP/1.1\u001b[0m\" 200 -\n",
      "127.0.0.1 - - [29/Sep/2021 19:23:33] \"\u001b[33mGET /test HTTP/1.1\u001b[0m\" 404 -\n",
      "127.0.0.1 - - [29/Sep/2021 19:23:43] \"\u001b[37mGET / HTTP/1.1\u001b[0m\" 200 -\n",
      "127.0.0.1 - - [29/Sep/2021 19:23:47] \"\u001b[33mGET /test HTTP/1.1\u001b[0m\" 404 -\n"
     ]
    }
   ],
   "source": [
    "from flask import Flask\n",
    "app = Flask(__name__)\n",
    "\n",
    "# Spring Controller와 동일한 역할 수행\n",
    "@app.route(\"/\")\n",
    "def hello():\n",
    "    return \"<h1>Hello Python</h1>\"\n",
    "\n",
    "if __name__ == \"__main__\":\n",
    "    app.run()"
   ]
  },
  {
   "cell_type": "code",
   "execution_count": null,
   "id": "6d6964ca",
   "metadata": {},
   "outputs": [],
   "source": [
    "# 1) https://developers.kakao.com/ 로그인\n",
    "# 2) 내 애플리케이션 -> 이전에 만들었던 사항 클릭\n",
    "# 3) 동의항목: 닉네임 - 필수, 카카오계정 - 선택, 카톡 메시지 - 선택\n",
    "# 4) 카카오 로그인 - 활성화 설정 ON\n",
    "# 5) Redirect URI에 https://localhost.com 설정\n",
    "# 6) 플랫폼 - Web 도메인으로 https://www.naver.com과 https://localhost.com 설정\n",
    "# 7) Kakao API 문서 위치 - https://developers.kakao.com/docs/latest/ko/kakaologin/rest-api\n",
    "# 8) 주어진 정보 확인\n",
    "#    GET /oauth/authorize?client_id={REST_API_KEY}&redirect_uri={REDIRECT_URI}&response_type=code HTTP/1.1\n",
    "#    Host: kauth.kakao.com\n",
    "#    요약 정보에 있는 REST API 키가 REST_API_KEY 위치에 배치되면 됨\n",
    "#    REDIRECT_URI의 경우 앞서 등록했던 https://localhost.com\n",
    "# 9) 해당 URL로 요청을 하면 Kakao API를 활용할 수 있는 토큰을 발급받을 수 있고\n",
    "#    주어진 시간내에 처리하지 않으면 토큰이 만료되므로 먼저 코드를 작성하도록 한다."
   ]
  },
  {
   "cell_type": "code",
   "execution_count": 46,
   "id": "2fc69c3a",
   "metadata": {},
   "outputs": [
    {
     "name": "stdout",
     "output_type": "stream",
     "text": [
      "Error!\n"
     ]
    }
   ],
   "source": [
    "import requests\n",
    "\n",
    "url = \"https://kauth.kakao.com/oauth/token\"\n",
    "\n",
    "#data = {\n",
    "#    \"grant_type\" : \"authorization_code\",\n",
    "#    \"client_id\" : \"REST_API_키\"\n",
    "#    \"redirect_uri\" : \"https://localhost.com\"\n",
    "#    \"code\" : \"발급받은 토큰값\"\n",
    "#}\n",
    "\n",
    "data = {\n",
    "    \"grant_type\" : \"authorization_code\",\n",
    "    \"client_id\" : \"4a0ef335a439753d31b31b38de362400\",\n",
    "    \"redirect_uri\" : \"https://localhost.com\",\n",
    "    \"code\" : \"75841BOvHkwOp2pxi0vkdR5v4FgoXdYhtMWeJa4CKjyabOpdMVov8IdYfOoQfUI21cgdwwo9dGkAAAF8MISbyw\"\n",
    "}\n",
    "\n",
    "response = requests.post(url, data=data)\n",
    "\n",
    "if response.status_code != 200:\n",
    "    print(\"Error!\")\n",
    "    \n",
    "else:\n",
    "    tokens = response.json()\n",
    "    print(tokens)"
   ]
  },
  {
   "cell_type": "code",
   "execution_count": 49,
   "id": "13f60fb5",
   "metadata": {},
   "outputs": [],
   "source": [
    "import json\n",
    "import requests\n",
    "import datetime\n",
    "import os\n",
    "\n",
    "# Kakao Token 저장 파일\n",
    "KAKAO_TOKEN_SAVED_FILE = \"res/kakao_msg/kakao_token.json\"\n",
    "\n",
    "# 저장\n",
    "def save_tokens(filename, tokens):\n",
    "    with open(filename, \"w\") as fp:\n",
    "        json.dump(tokens, fp)\n",
    "        \n",
    "# 읽기\n",
    "def load_tokens(filename):\n",
    "    with open(filename) as fp:\n",
    "        tokens = json.load(fp)\n",
    "        \n",
    "    return tokens\n",
    "\n",
    "# Access Toekn 갱신을 위한 Refresh\n",
    "def update_tokens(app_key, filename):\n",
    "    tokens = load_tokens(filename)\n",
    "    \n",
    "    url = \"https://kauth.kakao.com/oauth/token\"\n",
    "    \n",
    "    data = {\n",
    "        \"grant_type\" : \"refresh_token\",\n",
    "        \"client_id\" : app_key,\n",
    "        \"refresh_token\" : tokens['refresh_token']\n",
    "    }\n",
    "    \n",
    "    response = requests.post(url, data=data)\n",
    "    \n",
    "    if response.status_code != 200:\n",
    "        print(\"Error!\")\n",
    "        tokens = None\n",
    "    else:\n",
    "        print(response.json())\n",
    "        \n",
    "        # 기존 내용 백업:\n",
    "        now = datetime.datetime.now().strftime(\"%Y%m%d_%H%M%S\")\n",
    "        backup_filename = filename + \".\" + now\n",
    "        os.rename(filename, backup_filename)\n",
    "        \n",
    "        # 새롭게 업데이트된 토큰 저장\n",
    "        tokens['access_token'] = response.json()['access_token']\n",
    "        save_tokens(filename, tokens)\n",
    "        \n",
    "    return tokens\n",
    "\n",
    "# token 저장\n",
    "save_tokens(KAKAO_TOKEN_SAVED_FILE, tokens)"
   ]
  },
  {
   "cell_type": "code",
   "execution_count": 44,
   "id": "695e20c9",
   "metadata": {},
   "outputs": [
    {
     "name": "stdout",
     "output_type": "stream",
     "text": [
      "200\n",
      "카톡 메세지가 간드아!!!\n"
     ]
    }
   ],
   "source": [
    "# Kakao Talk Message 보내기\n",
    "\n",
    "import json\n",
    "import requests\n",
    "\n",
    "# 토큰 정보 활용\n",
    "tokens = load_tokens(KAKAO_TOKEN_SAVED_FILE)\n",
    "\n",
    "# 메세지 보내기 URL\n",
    "url = \"https://kapi.kakao.com/v2/api/talk/memo/default/send\"\n",
    "\n",
    "# requests parameter 설정\n",
    "headers = {\n",
    "    # Authorization: Bearer {ACCESS_TOKEN}\n",
    "    \"Authorization\" : \"Bearer \" + tokens['access_token']\n",
    "}\n",
    "\n",
    "data = {\n",
    "    \"template_object\" : json.dumps({\n",
    "        \"object_type\" : \"text\",\n",
    "        \"text\" : \"지금 집에 도둑이 들어왔어요. 당신의 물품이 다 털렸습니다. 가까운 경찰서 고고\",\n",
    "        \"link\" : {\n",
    "            # 이동할 링크 정보니까 사이트 주소를 걸면 더 좋음\n",
    "            \"web_url\" : \"www.naver.com\"\n",
    "        }\n",
    "    })\n",
    "}\n",
    "\n",
    "# 메세지 전송\n",
    "response = requests.post(url, headers=headers, data=data)\n",
    "print(response.status_code)\n",
    "\n",
    "if response.status_code != 200:\n",
    "    print(\"Error!\")\n",
    "else:\n",
    "    print(\"카톡 메세지가 간드아!!!\")"
   ]
  },
  {
   "cell_type": "code",
   "execution_count": 45,
   "id": "0db19910",
   "metadata": {},
   "outputs": [
    {
     "name": "stdout",
     "output_type": "stream",
     "text": [
      "/\n",
      "/member/eddi\n"
     ]
    }
   ],
   "source": [
    "from flask import Flask, url_for\n",
    "app = Flask(__name__)\n",
    "\n",
    "# Spring Controller와 동일한 역할 수행\n",
    "@app.route(\"/\")\n",
    "def hello():\n",
    "    return \"<h1>Hello Python</h1>\"\n",
    "\n",
    "@app.route(\"/member/<id>\")\n",
    "def get_member(id):\n",
    "    return 'member : ' + id\n",
    "\n",
    "if __name__ == \"__main__\":\n",
    "    with app.test_request_context():\n",
    "        print(url_for('hello'))\n",
    "        print(url_for('get_member', id='eddi'))"
   ]
  },
  {
   "cell_type": "code",
   "execution_count": null,
   "id": "426a25ba",
   "metadata": {},
   "outputs": [
    {
     "name": "stdout",
     "output_type": "stream",
     "text": [
      " * Serving Flask app \"__main__\" (lazy loading)\n",
      " * Environment: production\n",
      "\u001b[31m   WARNING: This is a development server. Do not use it in a production deployment.\u001b[0m\n",
      "\u001b[2m   Use a production WSGI server instead.\u001b[0m\n",
      " * Debug mode: off\n"
     ]
    },
    {
     "name": "stderr",
     "output_type": "stream",
     "text": [
      " * Running on http://127.0.0.1:5000/ (Press CTRL+C to quit)\n",
      "127.0.0.1 - - [29/Sep/2021 19:24:15] \"\u001b[37mGET / HTTP/1.1\u001b[0m\" 200 -\n",
      "127.0.0.1 - - [29/Sep/2021 19:24:19] \"\u001b[37mGET /test HTTP/1.1\u001b[0m\" 200 -\n"
     ]
    }
   ],
   "source": [
    "from flask import Flask, url_for, request\n",
    "app = Flask(__name__)\n",
    "\n",
    "# Spring Controller와 동일한 역할 수행\n",
    "@app.route(\"/\")\n",
    "def hello():\n",
    "    return \"<h1>Hello Python</h1>\"\n",
    "\n",
    "@app.route(\"/member/<id>\")\n",
    "def get_member(id):\n",
    "    return 'member : ' + id\n",
    "\n",
    "@app.route(\"/test\", methods=['POST', 'GET'])\n",
    "def chk_get_post(entity=None):\n",
    "    err = None\n",
    "    \n",
    "    if request.method == 'POST':\n",
    "        id = request.form['id']\n",
    "        email = request.form['email']\n",
    "        \n",
    "        if not id and not email:\n",
    "            return add_entity(request.form)\n",
    "    else:\n",
    "        err = \"Invalid!!!\"\n",
    "        \n",
    "    return err\n",
    "\n",
    "if __name__ == \"__main__\":\n",
    "    app.run()"
   ]
  },
  {
   "cell_type": "code",
   "execution_count": null,
   "id": "c1c0ee9e",
   "metadata": {},
   "outputs": [
    {
     "name": "stdout",
     "output_type": "stream",
     "text": [
      " * Serving Flask app \"__main__\" (lazy loading)\n",
      " * Environment: production\n",
      "\u001b[31m   WARNING: This is a development server. Do not use it in a production deployment.\u001b[0m\n",
      "\u001b[2m   Use a production WSGI server instead.\u001b[0m\n",
      " * Debug mode: off\n"
     ]
    },
    {
     "name": "stderr",
     "output_type": "stream",
     "text": [
      " * Running on http://127.0.0.1:5000/ (Press CTRL+C to quit)\n",
      "127.0.0.1 - - [29/Sep/2021 19:52:15] \"\u001b[37mOPTIONS /login HTTP/1.1\u001b[0m\" 200 -\n",
      "127.0.0.1 - - [29/Sep/2021 19:52:15] \"\u001b[37mPOST /login HTTP/1.1\u001b[0m\" 200 -\n"
     ]
    },
    {
     "name": "stdout",
     "output_type": "stream",
     "text": [
      "POST 처리\n",
      "{'userId': 'test', 'password': 'test'}\n"
     ]
    },
    {
     "name": "stderr",
     "output_type": "stream",
     "text": [
      "127.0.0.1 - - [29/Sep/2021 19:55:15] \"\u001b[37mOPTIONS /login HTTP/1.1\u001b[0m\" 200 -\n",
      "127.0.0.1 - - [29/Sep/2021 19:55:15] \"\u001b[37mPOST /login HTTP/1.1\u001b[0m\" 200 -\n"
     ]
    },
    {
     "name": "stdout",
     "output_type": "stream",
     "text": [
      "POST 처리\n",
      "{'userId': 'test', 'password': 'test'}\n"
     ]
    }
   ],
   "source": [
    "# Cors 문제 해결\n",
    "# pip install flask_cors\n",
    "from flask import Flask, url_for, request, jsonify\n",
    "from flask_cors import CORS, cross_origin\n",
    "\n",
    "app = Flask(__name__)\n",
    "CORS(app)\n",
    "\n",
    "# Spring Controller와 동일한 역할 수행\n",
    "@app.route(\"/\")\n",
    "def hello():\n",
    "    return \"<h1>Hello Python</h1>\"\n",
    "\n",
    "@app.route(\"/member/<id>\")\n",
    "def get_member(id):\n",
    "    return 'member : ' + id\n",
    "\n",
    "@app.route(\"/login\", methods=['POST', 'GET'])\n",
    "def chk_get_post(entity=None):\n",
    "    err = None\n",
    "    \n",
    "    if request.method == 'POST':\n",
    "        print(\"POST 처리\")\n",
    "        #userId = request.form['userId']\n",
    "        #pw = request.form['password']\n",
    "        #print(\"userId = {0}, pw = {1}\".format(userId, pw))\n",
    "        # request.get_json() 상대편에서 보낸 json 내용을 읽음\n",
    "        data = request.get_json()\n",
    "        print(data)\n",
    "        \n",
    "        # 여기에 카톡 Open API 연동하거나 딥러닝을 활용하는 것임\n",
    "        # 물론 우리는 시간이 부족해서 딥러닝이 불가함\n",
    "        # 그러므로 카톡 Open API나 주식 API 등등 여러가지 Open API들을 활용하면 될 것임\n",
    "        \n",
    "        #return \"userId = \" + userId + \", password = \" + pw\n",
    "        # json 데이터를 전송\n",
    "        return jsonify(data)\n",
    "    else:\n",
    "        print(\"GET 처리\")\n",
    "        err = \"Invalid!!!\"\n",
    "        \n",
    "    return err\n",
    "\n",
    "if __name__ == \"__main__\":\n",
    "    app.run()"
   ]
  },
  {
   "cell_type": "code",
   "execution_count": null,
   "id": "98f1ef27",
   "metadata": {},
   "outputs": [],
   "source": []
  }
 ],
 "metadata": {
  "kernelspec": {
   "display_name": "Python 3",
   "language": "python",
   "name": "python3"
  },
  "language_info": {
   "codemirror_mode": {
    "name": "ipython",
    "version": 3
   },
   "file_extension": ".py",
   "mimetype": "text/x-python",
   "name": "python",
   "nbconvert_exporter": "python",
   "pygments_lexer": "ipython3",
   "version": "3.8.8"
  }
 },
 "nbformat": 4,
 "nbformat_minor": 5
}
