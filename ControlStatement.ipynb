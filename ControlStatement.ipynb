{
 "cells": [
  {
   "cell_type": "code",
   "execution_count": 1,
   "id": "cb1791d5",
   "metadata": {},
   "outputs": [
    {
     "name": "stdout",
     "output_type": "stream",
     "text": [
      "val is bigger than 5\n"
     ]
    }
   ],
   "source": [
    "val = 10\n",
    "\n",
    "if val > 5:\n",
    "    print(\"val is bigger than 5\")"
   ]
  },
  {
   "cell_type": "code",
   "execution_count": 2,
   "id": "f189a912",
   "metadata": {},
   "outputs": [],
   "source": [
    "val = 1\n",
    "\n",
    "if val > 5:\n",
    "    print(\"val is bigger than 5\")"
   ]
  },
  {
   "cell_type": "code",
   "execution_count": 4,
   "id": "51580e95",
   "metadata": {},
   "outputs": [
    {
     "name": "stdout",
     "output_type": "stream",
     "text": [
      "val is bigger than 5\n"
     ]
    }
   ],
   "source": [
    "val = 1\n",
    "\n",
    "if val > 5:\n",
    "    print(\"test\")\n",
    "    \n",
    "print(\"val is bigger than 5\")"
   ]
  },
  {
   "cell_type": "code",
   "execution_count": 5,
   "id": "1ad0ad40",
   "metadata": {},
   "outputs": [
    {
     "name": "stdout",
     "output_type": "stream",
     "text": [
      "banana\n"
     ]
    }
   ],
   "source": [
    "money = 10\n",
    "\n",
    "if money > 100:\n",
    "    item = \"apple\"\n",
    "else:\n",
    "    item = \"banana\"\n",
    "    \n",
    "print(item)"
   ]
  },
  {
   "cell_type": "code",
   "execution_count": 7,
   "id": "0176175e",
   "metadata": {},
   "outputs": [
    {
     "name": "stdout",
     "output_type": "stream",
     "text": [
      "input Score: 99\n",
      "점수 통보! 등급 = A\n"
     ]
    }
   ],
   "source": [
    "score = int(input(('input Score: ')))\n",
    "\n",
    "if 90 <= score <= 100:\n",
    "    grade = 'A'\n",
    "elif 80 <= score < 90:\n",
    "    grade = 'B'\n",
    "elif 70 <= score <80:\n",
    "    grade = 'C'\n",
    "elif 60 <= score <70:\n",
    "    grade = 'D'\n",
    "else:\n",
    "    grade = \"F\"\n",
    "    \n",
    "print(\"점수 통보! 등급 = \" + grade)"
   ]
  },
  {
   "cell_type": "code",
   "execution_count": null,
   "id": "92355fb4",
   "metadata": {},
   "outputs": [],
   "source": [
    "# 수학, 영어, 국사 시험을 봤다.\n",
    "# 각각의 점수를 입력하여 토탈 평균이 60점 미만이며\n",
    "# 또한 각 과목의 점수들이 50점 미만인 경우에도 탈락 처리를 하도록 한다."
   ]
  },
  {
   "cell_type": "code",
   "execution_count": 31,
   "id": "b9608b50",
   "metadata": {},
   "outputs": [
    {
     "name": "stdout",
     "output_type": "stream",
     "text": [
      "math Score12\n",
      "eng Score3\n",
      "hist Score123\n",
      "불합격\n",
      "mean:  46.0\n"
     ]
    }
   ],
   "source": [
    "math = int(input(('math Score')))\n",
    "eng = int(input(('eng Score')))\n",
    "hist = int(input(('hist Score')))\n",
    "mean = (math + eng + hist) / 3\n",
    "\n",
    "if (math >= 50 and eng >= 50 and hist >= 50 and mean >= 60):\n",
    "    print(\"합격\")\n",
    "else:\n",
    "    print(\"불합격\")\n",
    "print(\"mean: \", mean)"
   ]
  },
  {
   "cell_type": "code",
   "execution_count": 32,
   "id": "aa71e67d",
   "metadata": {},
   "outputs": [
    {
     "name": "stdout",
     "output_type": "stream",
     "text": [
      "5\n",
      "4\n",
      "3\n",
      "2\n",
      "1\n"
     ]
    }
   ],
   "source": [
    "val = 5\n",
    "while val > 0:\n",
    "    print(val)\n",
    "    val -= 1"
   ]
  },
  {
   "cell_type": "code",
   "execution_count": 33,
   "id": "8f3f0cc4",
   "metadata": {},
   "outputs": [
    {
     "name": "stdout",
     "output_type": "stream",
     "text": [
      "Apple <class 'str'>\n",
      "100 <class 'int'>\n",
      "15.33 <class 'float'>\n"
     ]
    }
   ],
   "source": [
    "lists = ['Apple', 100, 15.33]\n",
    "\n",
    "for i in lists:\n",
    "    print(i, type(i))"
   ]
  },
  {
   "cell_type": "code",
   "execution_count": 34,
   "id": "3dd11639",
   "metadata": {},
   "outputs": [
    {
     "name": "stdout",
     "output_type": "stream",
     "text": [
      "item: 1\n",
      "item: 2\n",
      "item: 3\n",
      "item: 4\n",
      "item: 5\n"
     ]
    }
   ],
   "source": [
    "numList = [1, 2, 3, 4, 5, 6, 7, 8, 9, 10]\n",
    "\n",
    "for i in numList:\n",
    "    if i > 5:\n",
    "        break\n",
    "    print(\"item: {0}\".format(i))"
   ]
  },
  {
   "cell_type": "code",
   "execution_count": 35,
   "id": "32b739f5",
   "metadata": {},
   "outputs": [
    {
     "name": "stdout",
     "output_type": "stream",
     "text": [
      "item: 1\n",
      "item: 3\n",
      "item: 5\n",
      "item: 7\n",
      "item: 9\n"
     ]
    }
   ],
   "source": [
    "for i in numList:\n",
    "    if i % 2 == 0:\n",
    "        continue\n",
    "    print(\"item: {0}\".format(i))"
   ]
  },
  {
   "cell_type": "code",
   "execution_count": 2,
   "id": "36eebbab",
   "metadata": {},
   "outputs": [
    {
     "name": "stdout",
     "output_type": "stream",
     "text": [
      "[0, 1, 2, 3, 4, 5, 6, 7, 8, 9]\n"
     ]
    }
   ],
   "source": [
    "print(list(range(10)))"
   ]
  },
  {
   "cell_type": "code",
   "execution_count": 1,
   "id": "a9d1fbb3",
   "metadata": {},
   "outputs": [
    {
     "name": "stdout",
     "output_type": "stream",
     "text": [
      "[5, 6, 7, 8, 9]\n"
     ]
    }
   ],
   "source": [
    "print(list(range(5, 10)))"
   ]
  },
  {
   "cell_type": "code",
   "execution_count": 3,
   "id": "85c9cb7c",
   "metadata": {},
   "outputs": [
    {
     "name": "stdout",
     "output_type": "stream",
     "text": [
      "[10, 9, 8, 7, 6, 5, 4, 3, 2, 1]\n"
     ]
    }
   ],
   "source": [
    "# 10부터 1까지 -1하면서 리스트로 보여주라\n",
    "print(list(range(10, 0 , -1)))"
   ]
  },
  {
   "cell_type": "code",
   "execution_count": 4,
   "id": "418b8d58",
   "metadata": {},
   "outputs": [
    {
     "name": "stdout",
     "output_type": "stream",
     "text": [
      "[10, 12, 14, 16, 18]\n"
     ]
    }
   ],
   "source": [
    "#10에서부터 19까지 2씩 증가하면서 보여주라\n",
    "print(list(range(10, 20 , 2)))"
   ]
  },
  {
   "cell_type": "code",
   "execution_count": 6,
   "id": "e590905e",
   "metadata": {},
   "outputs": [
    {
     "name": "stdout",
     "output_type": "stream",
     "text": [
      "[1, 2, 3, 4, 5, 6, 7, 8, 9, 10]\n"
     ]
    }
   ],
   "source": [
    "numList = list(range(1, 11))\n",
    "\n",
    "print(numList)"
   ]
  },
  {
   "cell_type": "code",
   "execution_count": 7,
   "id": "bb090867",
   "metadata": {},
   "outputs": [
    {
     "name": "stdout",
     "output_type": "stream",
     "text": [
      "idx: 0, val: Apple\n",
      "idx: 1, val: Orange\n",
      "idx: 2, val: Grape\n",
      "idx: 3, val: Banana\n"
     ]
    }
   ],
   "source": [
    "strList = [\"Apple\", 'Orange', 'Grape', 'Banana']\n",
    "\n",
    "for i in range(len(strList)):\n",
    "    print(\"idx: {0}, val: {1}\".format(i, strList[i]))"
   ]
  },
  {
   "cell_type": "code",
   "execution_count": 8,
   "id": "79decdff",
   "metadata": {},
   "outputs": [
    {
     "name": "stdout",
     "output_type": "stream",
     "text": [
      "(0, 100)\n",
      "(1, 33.7)\n",
      "(2, 'Grape')\n"
     ]
    }
   ],
   "source": [
    "varList = [100, 33.7, \"Grape\"]\n",
    "\n",
    "for i in enumerate(varList):\n",
    "    print(i)"
   ]
  },
  {
   "cell_type": "code",
   "execution_count": 10,
   "id": "0c7ac7cc",
   "metadata": {},
   "outputs": [
    {
     "name": "stdout",
     "output_type": "stream",
     "text": [
      "[4.5, -1.5, 12, 6.0, -2.0, 16, 7.5, -2.5, 20]\n",
      "<class 'list'>\n"
     ]
    }
   ],
   "source": [
    "numList1 = [3, 4, 5]\n",
    "numList2 = [1.5, -0.5, 4]\n",
    "\n",
    "resLists = [x * y for x in numList1 for y in numList2]\n",
    "\n",
    "print(resLists)\n",
    "print(type(resLists))"
   ]
  },
  {
   "cell_type": "code",
   "execution_count": null,
   "id": "4aba7ba8",
   "metadata": {},
   "outputs": [],
   "source": []
  }
 ],
 "metadata": {
  "kernelspec": {
   "display_name": "Python 3",
   "language": "python",
   "name": "python3"
  },
  "language_info": {
   "codemirror_mode": {
    "name": "ipython",
    "version": 3
   },
   "file_extension": ".py",
   "mimetype": "text/x-python",
   "name": "python",
   "nbconvert_exporter": "python",
   "pygments_lexer": "ipython3",
   "version": "3.8.8"
  }
 },
 "nbformat": 4,
 "nbformat_minor": 5
}
