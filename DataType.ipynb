{
 "cells": [
  {
   "cell_type": "code",
   "execution_count": 1,
   "id": "b3cdcf78",
   "metadata": {},
   "outputs": [
    {
     "name": "stdout",
     "output_type": "stream",
     "text": [
      "Hello Python\n"
     ]
    }
   ],
   "source": [
    "print(\"Hello Python\")"
   ]
  },
  {
   "cell_type": "code",
   "execution_count": 2,
   "id": "1429c8d1",
   "metadata": {},
   "outputs": [
    {
     "name": "stdout",
     "output_type": "stream",
     "text": [
      "1 11\n"
     ]
    }
   ],
   "source": [
    "# var, const, let = 자바스크립트에서 사용하는 것\n",
    "num = 1\n",
    "Num = 11\n",
    "print(num, Num)\n",
    "# 파이썬은 데이터 타입을 적지 않음\n",
    "# 근데 그럼 데이터 타입도 없을까?\n",
    "# 파이썬도 자바스크립트도 모두 데이터타입은 존재함\n",
    "# 차이라면 사용자 편의를 위해 별도의 데이터타입 명시 없이도 활용할 수 있게 지원하고 있다는 점임"
   ]
  },
  {
   "cell_type": "code",
   "execution_count": 3,
   "id": "0406c25e",
   "metadata": {},
   "outputs": [
    {
     "name": "stdout",
     "output_type": "stream",
     "text": [
      "2 8 16\n"
     ]
    }
   ],
   "source": [
    "# 2^1 2^0\n",
    "binary = 0b10\n",
    "# 8^1 8^0\n",
    "octal = 0o10\n",
    "# 16^1 16^0\n",
    "hexa = 0x10\n",
    "\n",
    "print(binary, octal, hexa)"
   ]
  },
  {
   "cell_type": "code",
   "execution_count": 4,
   "id": "e87479a5",
   "metadata": {},
   "outputs": [
    {
     "name": "stdout",
     "output_type": "stream",
     "text": [
      "0b100110 0o46 0x26\n"
     ]
    }
   ],
   "source": [
    "binary = bin(38)\n",
    "octal = oct(38)\n",
    "hexa = hex(38)\n",
    "\n",
    "print(binary, octal, hexa)"
   ]
  },
  {
   "cell_type": "code",
   "execution_count": 5,
   "id": "65f4c490",
   "metadata": {},
   "outputs": [
    {
     "name": "stdout",
     "output_type": "stream",
     "text": [
      "<class 'complex'>\n",
      "-4.0\n",
      "3.0\n",
      "(3+4j)\n"
     ]
    }
   ],
   "source": [
    "z = 3 - 4j\n",
    "\n",
    "print(type(z))\n",
    "print(z.imag)\n",
    "print(z.real)\n",
    "print(z.conjugate())"
   ]
  },
  {
   "cell_type": "code",
   "execution_count": 6,
   "id": "27df260b",
   "metadata": {},
   "outputs": [
    {
     "name": "stdout",
     "output_type": "stream",
     "text": [
      "1.2e+30\n",
      "1.57e-20\n",
      "1024\n",
      "<class 'float'>\n",
      "<class 'float'>\n",
      "<class 'int'>\n"
     ]
    }
   ],
   "source": [
    "big = 1.2e30\n",
    "small = 1.57e-20\n",
    "# 2의 10승을 말하는 것 n^10\n",
    "test = 2**10\n",
    "\n",
    "print(big)\n",
    "print(small)\n",
    "print(test)\n",
    "\n",
    "print(type(big))\n",
    "print(type(small))\n",
    "print(type(test))"
   ]
  },
  {
   "cell_type": "code",
   "execution_count": 7,
   "id": "389501c5",
   "metadata": {},
   "outputs": [
    {
     "name": "stdout",
     "output_type": "stream",
     "text": [
      "0 0.42857142857142855\n",
      "333 333.3\n"
     ]
    }
   ],
   "source": [
    "# //는 몫만 구하는 나누기 연산\n",
    "num1 = 3 // 7\n",
    "num2 = 3333 // 10\n",
    "# /는 우리가 알고 있는 일반적인 나누기 연산으로 소수점 계산이 포함됨\n",
    "num3 = 3 / 7\n",
    "num4 = 3333 / 10\n",
    "\n",
    "print(num1, num3)\n",
    "print(num2, num4)"
   ]
  },
  {
   "cell_type": "code",
   "execution_count": null,
   "id": "76c17442",
   "metadata": {},
   "outputs": [],
   "source": []
  }
 ],
 "metadata": {
  "kernelspec": {
   "display_name": "Python 3",
   "language": "python",
   "name": "python3"
  },
  "language_info": {
   "codemirror_mode": {
    "name": "ipython",
    "version": 3
   },
   "file_extension": ".py",
   "mimetype": "text/x-python",
   "name": "python",
   "nbconvert_exporter": "python",
   "pygments_lexer": "ipython3",
   "version": "3.8.8"
  }
 },
 "nbformat": 4,
 "nbformat_minor": 5
}
